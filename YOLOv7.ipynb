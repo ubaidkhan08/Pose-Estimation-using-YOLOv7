{
 "cells": [
  {
   "cell_type": "markdown",
   "id": "0fed986a",
   "metadata": {},
   "source": [
    "# Pose Estimation using YOLOv7 Algorithm!"
   ]
  },
  {
   "cell_type": "markdown",
   "id": "ccacd6d4",
   "metadata": {},
   "source": [
    "Previously, I worked on several computer vision and YOLOv3 projects like the automatic out-of-stock inventory management system. But, since YOLOv7 is considered as one of the best object detection algorithms, I gave it a try! Created in the year 2015, by Joseph Redmon (who also proposed YOLOv2 & YOLOv3). Since then, the open soure contributors have collaborated together to create more versions in the YOLO family like:\n",
    "\n",
    "YOLOv4, YOLOv5, PP-YOLO, Scaled YOLOv4, PP-YOLOv2, YOLOv5, YOLOv6, and YOLOv7 (built on top of YOLOR - You Only Learn One Representation). YOLOv7 is more than just an object detection architecture. It provides a new model head that emits keypoints (skeleton) and can perform instance segmentation with just bounding box regression.\n",
    "\n",
    "Why did I use a YOLO model?\n",
    "1. Enables me to process video feeds at a high frames-per-second rate. My computer uses intel integrated graphics, which poses various processing limitations. \n",
    "\n",
    "2. Continuing R&D from the open-source community. YOLOv7 being the latest addition. \n",
    "\n",
    "3. No shortage of information or bug removals while implementing a model."
   ]
  },
  {
   "cell_type": "markdown",
   "id": "60ab4058",
   "metadata": {},
   "source": [
    "# "
   ]
  },
  {
   "cell_type": "markdown",
   "id": "5e469bb1",
   "metadata": {},
   "source": [
    "## Downloading Necessary Weights\n",
    "Convolutional Neural Network (CNN) like the YOLO need a lot of images with variations to train on. To avoid redundancy, we transfer the learnings of the first few layers and just needs to learn the last (or maybe last few) layers to work for your specific use case."
   ]
  },
  {
   "cell_type": "code",
   "execution_count": null,
   "id": "ded0ad07",
   "metadata": {},
   "outputs": [],
   "source": [
    "! curl -L https://github.com/WongKinYiu/yolov7/releases/download/v0.1/yolov7-w6-pose.pt -o yolov7-w6-pose.pt"
   ]
  },
  {
   "cell_type": "markdown",
   "id": "f373fb5f",
   "metadata": {},
   "source": [
    "# "
   ]
  },
  {
   "cell_type": "markdown",
   "id": "c9bb2bb3",
   "metadata": {},
   "source": [
    "## Importing Libraries"
   ]
  },
  {
   "cell_type": "code",
   "execution_count": 2,
   "id": "1e6be4a3",
   "metadata": {
    "scrolled": true
   },
   "outputs": [],
   "source": [
    "#For common image transformations\n",
    "import torch\n",
    "from torchvision import transforms\n",
    "\n",
    "#Selects a subset of bounding boxes in descending order of score\n",
    "from utils.general import non_max_suppression_kpt\n",
    "\n",
    "#To resize and pad the video to a shape that the model can work with\n",
    "from utils.datasets import letterbox\n",
    "from utils.plots import output_to_keypoint, plot_skeleton_kpts\n",
    "\n",
    "#for graphs & plots\n",
    "import matplotlib.pyplot as plt\n",
    "\n",
    "#for image and video analysis \n",
    "import cv2\n",
    "\n",
    "#for working with arrays\n",
    "import numpy as np"
   ]
  },
  {
   "cell_type": "markdown",
   "id": "da3350ca",
   "metadata": {},
   "source": [
    "# "
   ]
  },
  {
   "cell_type": "markdown",
   "id": "4c836fd9",
   "metadata": {},
   "source": [
    "## CPU or GPU availability check. Then, load pre-trained model\n",
    "Having a GPU quickens the processing as it switches from float32 to float16."
   ]
  },
  {
   "cell_type": "code",
   "execution_count": 3,
   "id": "c555427a",
   "metadata": {},
   "outputs": [],
   "source": [
    "device = torch.device(\"cuda:0\" if torch.cuda.is_available() else \"cpu\")\n",
    "\n",
    "def load_model():\n",
    "    model = torch.load('Libraries/yolov7-w6-pose.pt', map_location=device)['model']\n",
    "    # Put in inference mode\n",
    "    model.float().eval()\n",
    "\n",
    "    if torch.cuda.is_available():\n",
    "        # half() turns predictions into float16 tensors\n",
    "        # which significantly lowers inference time\n",
    "        model.half().to(device)\n",
    "    return model\n",
    "\n",
    "model = load_model()"
   ]
  },
  {
   "cell_type": "markdown",
   "id": "93e3d01d",
   "metadata": {},
   "source": [
    "# "
   ]
  },
  {
   "cell_type": "markdown",
   "id": "cb6113ad",
   "metadata": {},
   "source": [
    "## Transform Video & Run through the model!"
   ]
  },
  {
   "cell_type": "code",
   "execution_count": 4,
   "id": "53c23f32",
   "metadata": {},
   "outputs": [],
   "source": [
    "def run_inference(image):\n",
    "    # Resize and pad image\n",
    "    image = letterbox(image, 960, stride=64, auto=True)[0] # shape: (567, 960, 3)\n",
    "    # Apply transforms\n",
    "    image = transforms.ToTensor()(image) # torch.Size([3, 567, 960])\n",
    "    if torch.cuda.is_available():\n",
    "        image = image.half().to(device)\n",
    "    # Turn image into batch\n",
    "    image = image.unsqueeze(0) # torch.Size([1, 3, 567, 960])\n",
    "    with torch.no_grad():\n",
    "        output, _ = model(image)\n",
    "    return output, image"
   ]
  },
  {
   "cell_type": "markdown",
   "id": "04b68ed5",
   "metadata": {},
   "source": [
    "# "
   ]
  },
  {
   "cell_type": "markdown",
   "id": "ff7f78a4",
   "metadata": {},
   "source": [
    "## Returning Predictions & Image as a Tensor"
   ]
  },
  {
   "cell_type": "code",
   "execution_count": 5,
   "id": "3149a452",
   "metadata": {},
   "outputs": [],
   "source": [
    "def draw_keypoints(output, image):\n",
    "    output = non_max_suppression_kpt(output, \n",
    "                                     0.25, # Confidence Threshold\n",
    "                                     0.65, # IoU Threshold\n",
    "                                     nc=model.yaml['nc'], # Number of Classes\n",
    "                                     nkpt=model.yaml['nkpt'], # Number of Keypoints\n",
    "                                     kpt_label=True)\n",
    "    with torch.no_grad():\n",
    "        output = output_to_keypoint(output)\n",
    "    nimg = image[0].permute(1, 2, 0) * 255\n",
    "    nimg = nimg.cpu().numpy().astype(np.uint8)\n",
    "    nimg = cv2.cvtColor(nimg, cv2.COLOR_RGB2BGR)\n",
    "    for idx in range(output.shape[0]):\n",
    "        plot_skeleton_kpts(nimg, output[idx, 7:].T, 3)\n",
    "\n",
    "    return nimg"
   ]
  },
  {
   "cell_type": "markdown",
   "id": "7f51b068",
   "metadata": {},
   "source": [
    "# "
   ]
  },
  {
   "cell_type": "markdown",
   "id": "58966fb9",
   "metadata": {},
   "source": [
    "## Using OpenCV to read a video:\n",
    "We run this entire process for every frame on a video. On each frame, we'll also write the frame into a new file, encoded as a video. This process will take significant time (more if done without a GPU)."
   ]
  },
  {
   "cell_type": "code",
   "execution_count": 6,
   "id": "6cd20e84",
   "metadata": {},
   "outputs": [],
   "source": [
    "def pose_estimation_video(filename):\n",
    "    cap = cv2.VideoCapture(filename)\n",
    "    # VideoWriter for saving the video\n",
    "    fourcc = cv2.VideoWriter_fourcc(*'MP4V')\n",
    "    out = cv2.VideoWriter('Video_output.mp4', fourcc, 30.0, (int(cap.get(3)), int(cap.get(4))))\n",
    "    while cap.isOpened():\n",
    "        (ret, frame) = cap.read()\n",
    "        if ret == True:\n",
    "            frame = cv2.cvtColor(frame, cv2.COLOR_BGR2RGB)\n",
    "            output, frame = run_inference(frame)\n",
    "            frame = draw_keypoints(output, frame)\n",
    "            frame = cv2.resize(frame, (int(cap.get(3)), int(cap.get(4))))\n",
    "            out.write(frame)\n",
    "            cv2.imshow('Pose estimation', frame)\n",
    "        else:\n",
    "            break\n",
    "\n",
    "        if cv2.waitKey(10) & 0xFF == ord('q'):\n",
    "            break\n",
    "\n",
    "    cap.release()\n",
    "    out.release()\n",
    "    cv2.destroyAllWindows()\n"
   ]
  },
  {
   "cell_type": "markdown",
   "id": "ea1ba03b",
   "metadata": {},
   "source": [
    "# "
   ]
  },
  {
   "cell_type": "markdown",
   "id": "6c0371a0",
   "metadata": {},
   "source": [
    "## Final Deployment"
   ]
  },
  {
   "cell_type": "code",
   "execution_count": null,
   "id": "799a73e2",
   "metadata": {
    "scrolled": false
   },
   "outputs": [
    {
     "name": "stderr",
     "output_type": "stream",
     "text": [
      "C:\\Users\\Dr Juned bhai\\Conda\\lib\\site-packages\\torch\\functional.py:504: UserWarning: torch.meshgrid: in an upcoming release, it will be required to pass the indexing argument. (Triggered internally at C:\\actions-runner\\_work\\pytorch\\pytorch\\builder\\windows\\pytorch\\aten\\src\\ATen\\native\\TensorShape.cpp:3191.)\n",
      "  return _VF.meshgrid(tensors, **kwargs)  # type: ignore[attr-defined]\n"
     ]
    }
   ],
   "source": [
    "pose_estimation_video('ice_skating.mp4')"
   ]
  },
  {
   "cell_type": "markdown",
   "id": "3fdf623d",
   "metadata": {},
   "source": [
    "# "
   ]
  },
  {
   "cell_type": "markdown",
   "id": "d90ae265",
   "metadata": {},
   "source": [
    "## Then, the newly generated gets saved as 'Video_output' in the same directory! The last process will take some time, so be patient!"
   ]
  },
  {
   "cell_type": "markdown",
   "id": "e1748235",
   "metadata": {},
   "source": [
    "# "
   ]
  },
  {
   "cell_type": "markdown",
   "id": "8c060089",
   "metadata": {},
   "source": [
    "# Thank you!"
   ]
  }
 ],
 "metadata": {
  "kernelspec": {
   "display_name": "Python 3 (ipykernel)",
   "language": "python",
   "name": "python3"
  },
  "language_info": {
   "codemirror_mode": {
    "name": "ipython",
    "version": 3
   },
   "file_extension": ".py",
   "mimetype": "text/x-python",
   "name": "python",
   "nbconvert_exporter": "python",
   "pygments_lexer": "ipython3",
   "version": "3.9.12"
  }
 },
 "nbformat": 4,
 "nbformat_minor": 5
}
